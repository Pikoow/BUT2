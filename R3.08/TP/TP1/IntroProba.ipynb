{
 "cells": [
  {
   "cell_type": "markdown",
   "metadata": {},
   "source": [
    "## Test du générateur (pseudo) aléatoire. Simulation de variables aléatoires discrètes"
   ]
  },
  {
   "cell_type": "markdown",
   "metadata": {},
   "source": [
    "La méthode _rand_ du module **random** permet de simuler une variable aléatoire suivant une **loi uniforme** sur $[0,1]$ (tous les réels entre 0 et 1 ont la même probabilité d’être choisis).  \n",
    "\n",
    "<u>**Exemple introductif : Loi de Bernoulli**</u>  \n",
    "\n",
    "On cherche à simuler un jeu de pile ou face avec une pièce équilibrée. On peut facilement, en utilisant un générateur de nombres pseudo-aléatoires (\\texttt{rand}), simuler ce genre de jeu.  \n",
    "En effet, à partir de la variable aléatoire uniforme ${\\cal U}([0,1])$ on définit la variable aléatoire $ X = \\mathbb{I}_{\\{{\\cal U}< \\frac{1}{2}\\}}$, on a alors\n",
    "$$ \\mathbb{P}(X=0) = \\mathbb{P}(X=1) =\\frac{1}{2}.$$\n",
    "Ainsi, il suffit de \"tirer\" un nombre pseudo-aléatoire entre $[0,1]$ puis de comptabiliser un pile s'il est supérieur à $\\frac{1}{2}$, sinon un face.  \n",
    "Pour une loi de Bernoulli de paramètre $p$, on procède de la m\\^eme manière.  \n",
    "Notons enfin, que ce procédé va nous permettre de simuler des lois discètes à valeurs dans $\\{1,...N\\}$.  \n",
    "\n",
    "On considère une variable aléatoire (v.a.) $X$ à valeurs dans $\\{2,3,4,5\\}$ et de loi\n",
    "\n",
    "<center>\n",
    "\n",
    "| $i$        | 2    | 3     | 4   | 5     |\n",
    "|------------|------|-------|-----|-------|\n",
    "| $\\mathbb{P}(X=i)$ | 0.25 | 0.125 | 0.5 | 0.125 |\n",
    "\n",
    "</center>\n"
   ]
  },
  {
   "cell_type": "markdown",
   "metadata": {},
   "source": [
    "1. Ecrire une fonction python simulant cette variable aléatoire. Tester votre fonction (on fera un grand nombre de tirages et on comparera les fréquences théoriques et observées).  \n",
    "2. Ecrire une fonction python qui simule une variable aléatoire uniforme sur le carré unité. Vérifier graphiquement votre fonction (il suffit de faire un grand nombre de tirage puis d'afficher les points).  \n",
    "3. Ecrire une fonction python qui simule une variable aléatoire uniforme sur $[-1,1]$.\n",
    "4. Ecrire une fonction simulant le résultat du lancer d'un dé non pipé à six faces. Pour tester la validité de cette fonction, calculer la fréquence de sortie d'un chiffre entre 1 et 6 au bout de $N$ tirages (prendre $N$ très grand).  \n",
    "5. Générer un vecteur de taille $N = 1000$ (i.e. une matrice de dimension $(1,N)$).\n",
    "dont les composantes sont des réalisations indépendantes de variables aléatoires de loi uniforme\n",
    "sur $[0,1]$ avec la fonction rand. Tracer l’histogramme correspondant avec la fonction\n",
    "histplot. Augmenter $N (N = 10 000, 100 000...)$. Que constatez-vous ?  \n",
    "6. Ecrire une fonction python simulant une loi binomiale de paramètres $n$ et $p$ (qu'on passera en paramètres d'entrée de la fonction)."
   ]
  },
  {
   "cell_type": "markdown",
   "metadata": {},
   "source": [
    "## Le paradoxe du chevalier de Méré"
   ]
  },
  {
   "cell_type": "markdown",
   "metadata": {},
   "source": [
    "Est-il avantageux, lorsqu'on joue au dé, de parier sur l'apparition d'un 6 en lançant 4 fois le dé ? Est-il avantageux de parier sur l'apparition d'un double-six, quand on lance 24 fois deux dés ?  \n",
    "Le chevalier de Méré, qui était un grand joueur, avait remarqué que le premier jeu était avantageux. Se laissant abuser par un soi-disant argument d'homothétie, le chevalier considérait que le deuxième pari était aussi avantageux : en lançant un dé, il y a 6 issues; en lançant deux 2 dés, il y en a 36, soit 6 fois plus. Puisqu'il est avantageux de parier sur l'apparition d'un 6 en lançant le dé 4 fois de suite, il doit être avantageux de miser sur l'apparition d'un double-six en lançant un dé 24=4x6 fois de suite.  \n",
    "Malheureusement pour le chevalier, les règles des probabilités sont plus complexes, et c'est Pascal qui calcula la vraie probabilité, très légèrement inférieure à 0.5 : le deuxième jeu n'est pas avantageux.  \n",
    "\n",
    "En effectuant un grand nombre de simulation des deux jeux précédents, vérifier que le premier jeu est avantageux alors que le second ne l’est pas, contrairement  à l’intuition du chevalier de Méré….\n"
   ]
  },
  {
   "cell_type": "markdown",
   "metadata": {},
   "source": [
    "## Méthode de Monte-Carlo\n",
    "\n",
    "\n",
    "Il est souvent difficile (sinon impossible) de déterminer analytiquement l'intégrale d'une fonction compliquée (et donc l'aire d'une surface).  \n",
    "Dans certains cas des méthodes probabilistes permettent d'obtenir de bons résultats. Les méthodes de Monte-Carlo sont des méthodes probabilistes très répandues (leur nom provient bien de la ville du même nom célèbre pour ses casinos).  \n",
    "Nous allons mettre en \\oeuvre une telle méthode pour approcher $\\pi$ puis pour le calcul d'une intégrale. La justification mathématique de cette approche sera vue en cours.  \n",
    "On considère un carré de coté unité dans lequel on inscrit un quart de cercle. On tire aléatoirement les coordonnées d'un point $(x,y)$ avec $0\\leq x,y\\leq 1$. "
   ]
  },
  {
   "cell_type": "markdown",
   "metadata": {},
   "source": [
    "<div>\n",
    "<img src=\"MC_pi.png\" width=\"420\"/>\n",
    "</div>"
   ]
  },
  {
   "cell_type": "markdown",
   "metadata": {},
   "source": []
  },
  {
   "cell_type": "markdown",
   "metadata": {},
   "source": [
    "1. Quelle est la probabilité pour que ce point soit à l'intérieur du quart de cercle.  \n",
    "2. Vérifier sur la documentation de random (numpy)  que les nombres (pseudo) aléatoires sont générés par défaut entre 0 et 1.  \n",
    "3. En utilisant la méthode ``rand'' du module random de numpy, écrire une fonction python ayant comme paramètre d'entrée le nombre $n$ de nombres aléatoires et qui renvoie une approximation de $pi$ (rappel : le carré de la distance d'un point $(x,y)$ à l'origine est $x^2 + y^2$).\n",
    "4. Adapter le programme précédent pour calculer l'intégrale d'une fonction entre 0 et 1. On se limitera {\\`a} la fonction $\\exp$. Tracer l'erreur en fonction de $n$ (nombres de points aléatoires)\n",
    "5. Généralisation : calculer l'intégrale d'une fonction entre a et b. On peut remarquer qu'en faisant le changement de variable $ x=a+(b-a)t $ on se ramène au cas précédent ($t$ varie alors entre 0 et 1).\n"
   ]
  },
  {
   "cell_type": "markdown",
   "metadata": {},
   "source": [
    "## Chaine de Markov  \n",
    "\n",
    "Lors de l'étude d'un phénomène qui dépend du hasard, il est souvent nécéssaire de prendre en compte l'évolution de ce phénomène au cours du temps. Le modèle probabiliste correspondant est alors  appelé  **processus stochastique**.   \n",
    "Nous allons nous intérésser au cas particuliers pour lesquels l'espace des temps est un espace dénombrable (dans notre cas fini), on parle alors de **chaine de Markov**.  \n",
    "Un joueur participe à un jeu de pile ou face. Il mise un euro à chaque lancé. Il double sa mise (1 euro) si la pièce tombe sur pile et perd sinon. Le jeu s'arrète dès que le joueur est en possession de 6 euros ou qu'il a tout perdu. Si le joueur débute la partie avec 3 euros, on souhaite connaitre la probabilité pour que le jeu s'arrète au bout de 5 lancés, de  24 lancés.  \n",
    "A tout moment le joueur possède 0,1,...,6 euros, on dira qu'il est à l'état $s_0, s_1,..., s_6$.   \n",
    "Le jeu consiste donc à bouger d'un état à l'autre. Nous supposerons qu'un joueur à l'état $s_3$ a autant de chance de se retrouver (au prochain lancé) en $s_2$ qu'en $s_4$. Par contre si le joueur atteint les états $s_0$ ou $s_6$ il ne peut plus changer d'état (on dit que les bords sont absorbants).  \n",
    "On note $p_i(n)$ la probabilité que le joueur soit à l'état $s_i$ après $n$ lancés.  \n",
    "\n",
    "1. Exprimer  $p_i(n+1),\\;\\; 0\\leq i \\leq 6$ en fonction de $p_i(n),\\;\\; 0\\leq i \\leq 6$\n",
    "2. Ecrire le résultat précédent sous forme matricielle (c'est la matrice de transition).\n",
    "3. Ecrire une fonction  qui calcule la probabilité de se retrouver dans un état quelconque apres $n$ tirages.\n",
    "4. Ajouter en paramètre de la fonction la somme en possession du joueur au début de la partie. Comparer les probabilités pour que le jeu s'arrète sur un gain de 6 euros  en fonction de la somme en possession du joueur en début de partie.  \n",
    "\n",
    "Lorsque le jeu s'arrète dans ce cas on dit que le joueur ``a fait sauter la banque'' (un gain maximal est souvent fixé dans les jeux d'argent). \n",
    "5. Que devient la matrice de transition si le joueur mise 2 euros à chaque fois?"
   ]
  },
  {
   "cell_type": "markdown",
   "metadata": {},
   "source": []
  }
 ],
 "metadata": {
  "language_info": {
   "name": "python"
  }
 },
 "nbformat": 4,
 "nbformat_minor": 2
}
