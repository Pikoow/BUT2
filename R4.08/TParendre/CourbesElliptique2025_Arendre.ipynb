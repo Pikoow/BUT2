{
 "cells": [
  {
   "cell_type": "markdown",
   "metadata": {},
   "source": [
    "### Courbes elliptiques, Ordre, Somme, Diffie-Hellman"
   ]
  },
  {
   "cell_type": "markdown",
   "metadata": {},
   "source": [
    "Nous nous plaçons sur un corps fini $\\mathbb{F}_p$, où $p$ est un nombre premier supérieur à 3. Cet ensemble est d'ordre $p$ (il contient $p$ éléments : $0,1,...,p-1$). Le groupe multiplicatif est d'ordre $p-1$  tout élément $x \\in \\mathbb{F}_p $ vérifie : $ x^{p-1} =1$.\n",
    "On considère alors la courbe elliptique sur $\\mathbb{F}_p$ définie par la réunion d’un point noté \\infi (on dira que c'est un point à l’infini) et l’ensemble des points affines $(x, y)$ vérifiant  \n",
    "$${\\cal E}_{a,b} : y^2 = x^3 + ax +b$$\n",
    "où $a, b \\in \\mathbb{F}_p$ et tels que $4a^3+27b^2 \\neq 0$.\n",
    "On notera ${\\cal E}_{a,b}(\\mathbb{F}_p)$ cette courbe."
   ]
  },
  {
   "cell_type": "markdown",
   "metadata": {},
   "source": [
    "On reprend les notations et définitions des tp précédents (en particulier pour définir la somme, le produit...). "
   ]
  },
  {
   "cell_type": "markdown",
   "metadata": {},
   "source": [
    "1. De combien de points **au maximum** est formée la courbe elliptique ?\n",
    "\n",
    "Pour chaque valeur de x dans $\\mathbb{F}_p$, il peut y avoir au plus deux valeurs de y (une paire (y,−y)) qui satisfont l'équation de la courbe.\n",
    "Il y a p valeurs possibles pour x, donc au maximum 2p points affines.\n",
    "\n",
    "En ajoutant le point à l'infini, on obtient un maximum de 2p+1 points.\n",
    "\n",
    "La courbe elliptique définie sur un corps fini $\\mathbb{F}_p$, peut avoir au maximum 2p + 1 points.\n",
    "\n",
    "1. Pour $p=97$, déterminer le nombre de points de la courbe elliptique ${\\cal E}_{5,20}(\\mathbb{F}_{97})$.  \n",
    "<u>***Indication***</u> On pourra simplement écrire une fonction python qui teste les couples de coordonnées vérifiant l'équation de la courbe."
   ]
  },
  {
   "cell_type": "markdown",
   "metadata": {},
   "source": [
    "On rappelle que pour déterminer la somme de deux points $P(x_p,y_p)$ et $Q(x_q,y_q)$ de ${\\cal E}_{a,b}(\\mathbb{F}_p)$, on commence par déterminer l'intersection de la droite $(PQ)$ avec la courbe.  \n",
    "La pente de la droite $(PQ)$ sera notée  $$\\lambda = \\frac{y_q-y_p}{x_q-q_p}$$, on rappelle également que l'équation de la droite $(PQ)$ peut s'écrire : $$ y-y_p = \\lambda (x-x_p) $$.\n",
    "Soit $R(x_r,y_r)$ la somme de $P$ et $Q$ ($R=P+Q$). Démontrer la formule de la somme :\n",
    "$$ x_r= \\lambda^2 - x_p - x_q $$\n",
    "<u>***Indication***</u>  On commencera par déterminer $S(x_s,y_s)$ intersection de $(PQ)$ et de la courbe elliptique. On obtiendra alors une équation de degré trois qu'on sait factoriser (car on sait que les coordonnées de $P$, $Q$ et $S$ sont solutions de cette équation). Il suffira alors d'identifier le coefficient de $x^2$. "
   ]
  },
  {
   "cell_type": "markdown",
   "metadata": {},
   "source": [
    "Le protocole de Diffie-Hellman utilisé sur une courbe elliptique permet à deux parties, Alice et Bob, de convenir d’un secret commun (sur un canal public).  \n",
    "On utilisera à nouveau la courbe ${\\cal E}_{5,20}(\\mathbb{F}_{97})$ munie du point $G = (86, 63)$.  \n",
    "Soit $n$ l'ordre (le nombre de points) de la courbe elliptique (déterminé précédemment).  \n",
    "1. Alice et Bob s’accordent sur une courbe elliptique et un générateur $G$ (ici ${\\cal E}_{5,20}(\\mathbb{F}_{97})$ et $G = (86, 63)$.).\n",
    "2. Secrètement, Alice et Bob choisissent respectivement  un entier\n",
    "a et b  entre $1$ et $n-1$.\n",
    "3. Alice communique $G_a = a · G$ à Bob, Bob communique $G_b = b · G$ à Alice.\n",
    "\n",
    "Vérifier qu'ils peuvent choisir comme secret commun $(ab).G$. Pour cela il faut vérifier que $b.G_A= a.G_b$."
   ]
  },
  {
   "cell_type": "markdown",
   "metadata": {},
   "source": [
    "Montrer que la duplication $R = 2P$ d’un point $P$ de ${\\cal E}_{a,b}$ conduit en\n",
    "général aux formules :\n",
    "$$ \\lambda = \\frac{3 {x_P}^2 + a}{2y_P},\\quad x_R = \\lambda^2 - 2 x_P\\quad \\text{et}\\quad y_R= -y_P+\\lambda(x_P-x_R)  $$\n",
    "où $\\lambda$ est la pente de la tangente à ${\\cal E}_{a,b}$ en $P$. Que se passe-t-il si $y_P = 0$ ?"
   ]
  },
  {
   "cell_type": "markdown",
   "metadata": {},
   "source": [
    "Réccrire la fonction multiplication qui prend en entrée un point $P$ d’une courbe elliptique et un scalaire $\\lambda$ et renvoie le produit $\\lambda·P$ en utilisant la méthode d’exponentiation rapide suivante\n",
    "$$ \\forall \\lambda \\in \\mathbb{N}, \\; \\lambda P = \n",
    "\\begin{cases}\n",
    "0 & \\text{si } \\lambda =0 \\\\\n",
    "P &  \\text{si } \\lambda =1 \\\\\n",
    "\\frac{\\lambda}{2}(P+P) &\\text{si } \\lambda \\text{ pair} \\\\\n",
    "P + \\frac{\\lambda-1}{2}(P+P) &\\text{si } \\lambda \\text{ impair} \n",
    "\\end{cases}\n",
    "$$"
   ]
  },
  {
   "cell_type": "markdown",
   "metadata": {},
   "source": []
  },
  {
   "cell_type": "markdown",
   "metadata": {},
   "source": []
  }
 ],
 "metadata": {
  "language_info": {
   "name": "python"
  }
 },
 "nbformat": 4,
 "nbformat_minor": 2
}
