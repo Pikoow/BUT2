{
 "cells": [
  {
   "cell_type": "markdown",
   "metadata": {},
   "source": [
    "### Courbes elliptiques, Ordre, Somme, Diffie-Hellman"
   ]
  },
  {
   "cell_type": "markdown",
   "metadata": {},
   "source": [
    "Nous nous plaçons sur un corps fini $\\mathbb{F}_p$, où $p$ est un nombre premier supérieur à 3. Cet ensemble est d'ordre $p$ (il contient $p$ éléments : $0,1,...,p-1$). Le groupe multiplicatif est d'ordre $p-1$  tout élément $x \\in \\mathbb{F}_p $ vérifie : $ x^{p-1} =1$.\n",
    "On considère alors la courbe elliptique sur $\\mathbb{F}_p$ définie par la réunion d’un point noté \\infi (on dira que c'est un point à l’infini) et l’ensemble des points affines $(x, y)$ vérifiant  \n",
    "$${\\cal E}_{a,b} : y^2 = x^3 + ax +b$$\n",
    "où $a, b \\in \\mathbb{F}_p$ et tels que $4a^3+27b^2 \\neq 0$.\n",
    "On notera ${\\cal E}_{a,b}(\\mathbb{F}_p)$ cette courbe."
   ]
  },
  {
   "cell_type": "markdown",
   "metadata": {},
   "source": [
    "On reprend les notations et définitions des tp précédents (en particulier pour définir la somme, le produit...). "
   ]
  },
  {
   "cell_type": "markdown",
   "metadata": {},
   "source": [
    "1. De combien de points **au maximum** est formée la courbe elliptique ?\n",
    "\n",
    "Pour chaque valeur de x dans $\\mathbb{F}_p$, il peut y avoir au plus deux valeurs de y (une paire (y,−y)) qui satisfont l'équation de la courbe.\n",
    "Il y a p valeurs possibles pour x, donc au maximum 2p points affines.\n",
    "\n",
    "En ajoutant le point à l'infini, on obtient un maximum de 2p+1 points.\n",
    "\n",
    "La courbe elliptique définie sur un corps fini $\\mathbb{F}_p$, peut avoir au maximum 2p + 1 points.\n",
    "\n",
    "2. Pour $p=97$, déterminer le nombre de points de la courbe elliptique ${\\cal E}_{5,20}(\\mathbb{F}_{97})$.  \n",
    "<u>***Indication***</u> On pourra simplement écrire une fonction python qui teste les couples de coordonnées vérifiant l'équation de la courbe."
   ]
  },
  {
   "cell_type": "code",
   "execution_count": 4,
   "metadata": {},
   "outputs": [
    {
     "name": "stdout",
     "output_type": "stream",
     "text": [
      "Le nombre de points sur la courbe elliptique est : 113\n"
     ]
    }
   ],
   "source": [
    "def count_points_on_elliptic_curve(p, a, b):\n",
    "    count = 0\n",
    "    for x in range(p):\n",
    "        for y in range(p):\n",
    "            if (y**2) % p == (x**3 + a*x + b) % p:\n",
    "                count += 1\n",
    "    return count + 1\n",
    "\n",
    "p = 97\n",
    "a = 5\n",
    "b = 20\n",
    "num_points = count_points_on_elliptic_curve(p, a, b)\n",
    "print(f\"Le nombre de points sur la courbe elliptique est : {num_points}\")"
   ]
  },
  {
   "cell_type": "markdown",
   "metadata": {},
   "source": [
    "On rappelle que pour déterminer la somme de deux points $P(x_p,y_p)$ et $Q(x_q,y_q)$ de ${\\cal E}_{a,b}(\\mathbb{F}_p)$, on commence par déterminer l'intersection de la droite $(PQ)$ avec la courbe.  \n",
    "La pente de la droite $(PQ)$ sera notée  $$\\lambda = \\frac{y_q-y_p}{x_q-q_p}$$, on rappelle également que l'équation de la droite $(PQ)$ peut s'écrire : $$ y-y_p = \\lambda (x-x_p) $$.\n",
    "Soit $R(x_r,y_r)$ la somme de $P$ et $Q$ ($R=P+Q$). Démontrer la formule de la somme :\n",
    "$$ x_r= \\lambda^2 - x_p - x_q $$\n",
    "<u>***Indication***</u>  On commencera par déterminer $S(x_s,y_s)$ intersection de $(PQ)$ et de la courbe elliptique. On obtiendra alors une équation de degré trois qu'on sait factoriser (car on sait que les coordonnées de $P$, $Q$ et $S$ sont solutions de cette équation). Il suffira alors d'identifier le coefficient de $x^2$.\n",
    "\n",
    "La pente de la droite (PQ) est $$\\lambda = \\frac{y_q-y_p}{x_q-q_p}$$\n",
    "\n",
    "L'equation de la droite (PQ) : $$ y-y_p = \\lambda (x-x_p) $$\n",
    "\n",
    "Intersection avec la courbe elliptique : \n",
    "   On substitue $ y $ dans l'équation de la courbe elliptique $ y² = x³ + ax + b $\n",
    "   $$ (\\lambda(x-x_p)+y_p)² = x³ + ax + b $$\n",
    "\n",
    "Equation de degré trois :\n",
    "   En developpant, on obtient une équation de degré trois en $ x $ :\n",
    "   $ x³ - \\lambda²x^2 + $(termes en $x$ et constants)$ = 0 $\n",
    "\n",
    "Factorisation : \n",
    "   On sait que $ x_p $ et $ x_q $ sont des racines de cette equation, donc elle peut être factorisée comme :\n",
    "   $$ (x-x_p)(x-x_q)(x-x_r) = 0 $$\n",
    "\n",
    "Identification du quotient de $x²$ :\n",
    "   En comparant les coefficients de $x²$ dans les deux formes de l'équation on obtient :\n",
    "   $$ x_p+x_q+x_r = \\lambda² $$\n",
    "   D'où :\n",
    "   $$ x_r = \\lambda² - x_p - x_q $$\n",
    "   \n",
    "La coordonée $y_r$ peut être determinée en utilisant l'équation de la droite (PQ) :\n",
    "   $$ y_r = \\lambda(x_r - x_p)+y_p $$"
   ]
  },
  {
   "cell_type": "markdown",
   "metadata": {},
   "source": [
    "Le protocole de Diffie-Hellman utilisé sur une courbe elliptique permet à deux parties, Alice et Bob, de convenir d’un secret commun (sur un canal public).  \n",
    "On utilisera à nouveau la courbe ${\\cal E}_{5,20}(\\mathbb{F}_{97})$ munie du point $G = (86, 63)$.  \n",
    "Soit $n$ l'ordre (le nombre de points) de la courbe elliptique (déterminé précédemment).  \n",
    "1. Alice et Bob s’accordent sur une courbe elliptique et un générateur $G$ (ici ${\\cal E}_{5,20}(\\mathbb{F}_{97})$ et $G = (86, 63)$.).\n",
    "2. Secrètement, Alice et Bob choisissent respectivement  un entier\n",
    "a et b  entre $1$ et $n-1$.\n",
    "3. Alice communique $G_a = a · G$ à Bob, Bob communique $G_b = b · G$ à Alice.\n",
    "\n",
    "Vérifier qu'ils peuvent choisir comme secret commun $(ab).G$. Pour cela il faut vérifier que $b.G_A= a.G_b$.\n",
    "\n",
    "Alice calcule $S_a = a.G_b$\n",
    "Bob calcule $S_b = b.G_a$\n",
    "On vérifie que $S_a = S_b$\n",
    "\n",
    "$$ S_a = a.G_b = a.(b.G) = (ab).G $$\n",
    "$$ S_a = b.G_a = b.(a.G) = (ba).G $$\n",
    "\n",
    "Donc $ S_a = S_b = (a.b).G $\n",
    "Conclusion : Alice et Bob peuvent utiliser $(ab).G$ comme secret commum."
   ]
  },
  {
   "cell_type": "code",
   "execution_count": 6,
   "metadata": {},
   "outputs": [
    {
     "name": "stdout",
     "output_type": "stream",
     "text": [
      "Secret commun d'Alice : (52, 23)\n",
      "Secret commun de Bob : (52, 23)\n"
     ]
    }
   ],
   "source": [
    "def somme_courbe_elliptique(P, Q, a, p):\n",
    "    if P == \"O\":\n",
    "        return Q\n",
    "    if Q == \"O\":\n",
    "        return P\n",
    "    x_p, y_p = P\n",
    "    x_q, y_q = Q\n",
    "    if x_p == x_q and y_p != y_q:\n",
    "        return \"O\"\n",
    "    if P == Q:\n",
    "        lam = (3 * x_p**2 + a) * pow(2 * y_p, -1, p) % p\n",
    "    else:\n",
    "        lam = (y_q - y_p) * pow(x_q - x_p, -1, p) % p\n",
    "    x_r = (lam**2 - x_p - x_q) % p\n",
    "    y_r = (lam * (x_p - x_r) - y_p) % p\n",
    "    return (x_r, y_r)\n",
    "\n",
    "def produit_courbe_elliptique(k, G, a, p):\n",
    "    result = \"O\"\n",
    "    for _ in range(k):\n",
    "        result = somme_courbe_elliptique(result, G, a, p)\n",
    "    return result\n",
    "\n",
    "p = 97\n",
    "a = 5\n",
    "b = 20\n",
    "G = (86, 63)\n",
    "\n",
    "a_secret = 5\n",
    "b_secret = 7\n",
    "\n",
    "G_a = produit_courbe_elliptique(a_secret, G, a, p)\n",
    "G_b = produit_courbe_elliptique(b_secret, G, a, p)\n",
    "\n",
    "S_a = produit_courbe_elliptique(a_secret, G_b, a, p)\n",
    "S_b = produit_courbe_elliptique(b_secret, G_a, a, p)\n",
    "\n",
    "print(f\"Secret commun d'Alice : {S_a}\")\n",
    "print(f\"Secret commun de Bob : {S_b}\")"
   ]
  },
  {
   "cell_type": "markdown",
   "metadata": {},
   "source": [
    "Montrer que la duplication $R = 2P$ d’un point $P$ de ${\\cal E}_{a,b}$ conduit en\n",
    "général aux formules :\n",
    "$$ \\lambda = \\frac{3 {x_P}^2 + a}{2y_P},\\quad x_R = \\lambda^2 - 2 x_P\\quad \\text{et}\\quad y_R= -y_P+\\lambda(x_P-x_R)  $$\n",
    "où $\\lambda$ est la pente de la tangente à ${\\cal E}_{a,b}$ en $P$. Que se passe-t-il si $y_P = 0$ ?\n",
    "\n"
   ]
  },
  {
   "cell_type": "markdown",
   "metadata": {},
   "source": [
    "Réccrire la fonction multiplication qui prend en entrée un point $P$ d’une courbe elliptique et un scalaire $\\lambda$ et renvoie le produit $\\lambda·P$ en utilisant la méthode d’exponentiation rapide suivante\n",
    "$$ \\forall \\lambda \\in \\mathbb{N}, \\; \\lambda P = \n",
    "\\begin{cases}\n",
    "0 & \\text{si } \\lambda =0 \\\\\n",
    "P &  \\text{si } \\lambda =1 \\\\\n",
    "\\frac{\\lambda}{2}(P+P) &\\text{si } \\lambda \\text{ pair} \\\\\n",
    "P + \\frac{\\lambda-1}{2}(P+P) &\\text{si } \\lambda \\text{ impair} \n",
    "\\end{cases}\n",
    "$$"
   ]
  },
  {
   "cell_type": "markdown",
   "metadata": {},
   "source": []
  },
  {
   "cell_type": "markdown",
   "metadata": {},
   "source": []
  }
 ],
 "metadata": {
  "kernelspec": {
   "display_name": "Python 3 (ipykernel)",
   "language": "python",
   "name": "python3"
  },
  "language_info": {
   "codemirror_mode": {
    "name": "ipython",
    "version": 3
   },
   "file_extension": ".py",
   "mimetype": "text/x-python",
   "name": "python",
   "nbconvert_exporter": "python",
   "pygments_lexer": "ipython3",
   "version": "3.11.2"
  }
 },
 "nbformat": 4,
 "nbformat_minor": 2
}
