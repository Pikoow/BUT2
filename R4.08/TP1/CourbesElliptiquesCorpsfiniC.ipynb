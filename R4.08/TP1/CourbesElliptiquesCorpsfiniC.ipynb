{
 "cells": [
  {
   "cell_type": "markdown",
   "metadata": {},
   "source": [
    "Nous nous plaçons sur un corps fini $\\mathbb{F}_p$, où $p$ est un nombre premier supérieur à 3. Cet ensemble est d'ordre $p$ (il contient $p$ éléments : $0,1,...,p-1$). Le groupe multiplicatif est d'ordre $p-1$  tout élément $x \\in \\mathbb{F}_p $ vérifie : $ x^{p-1} =1$. \n",
    "\n",
    "On peut définir **l'addition, la soustraction et la multiplication** comme nous le faisons habituellement sur les entiers, il faut simplement effectuer tous les calculs **modulo** $p$ où $p$ sera **premier**.\n",
    "\n",
    "Pour  la division par un nombre $x$, nous devons calculer son inverse, noté $x^{-1}$ dans $\\mathbb{F}_p$. \n",
    "Comme $p$ est premier, tout élément de $\\mathbb{F}_p$ est inversible et son inverse est simplement donné par $x^{p-2}$ (dans le cas général on utilisera l'algorithme d'Euclide étendu).\n",
    "\n",
    "Pour la racine carrée $\\sqrt{y} $ de $y$,  comme notre ensemble est fini, il faudra trouver $x \\in \\mathbb{F}_p$ tel que $x^2=y$."
   ]
  },
  {
   "cell_type": "markdown",
   "metadata": {},
   "source": [
    "Exemples avec Sage\n",
    "==================="
   ]
  },
  {
   "cell_type": "code",
   "execution_count": null,
   "metadata": {},
   "outputs": [],
   "source": [
    "p=41;Fp=GF(p)\n",
    "alpha=-3;beta=10\n",
    "E=EllipticCurve(Fp,[alpha,beta])\n",
    "G=E(38,22)"
   ]
  },
  {
   "cell_type": "markdown",
   "metadata": {},
   "source": [
    "\n",
    "A faire\n",
    "========\n",
    "\n",
    "Réecrire les fonctions : \n",
    "- somme, \n",
    "- multiplication scalaire, \n",
    "- recherche d'inverse\n",
    "- racine carrée \n",
    "\n",
    "dans  $\\mathbb{F}_p$ (modulo p)."
   ]
  },
  {
   "cell_type": "code",
   "execution_count": null,
   "metadata": {},
   "outputs": [],
   "source": [
    "%matplotlib inline\n",
    "import matplotlib.pyplot as plt\n",
    "\n",
    "import numpy as np\n",
    "\n",
    "\n",
    "def ecc(x, p, a, b):\n",
    "    assert (4*a**3 + 27*a**2) % p!= 0\n",
    "    return (x**3 + a*x + b) % p\n",
    "\n",
    "\n",
    "def sqrt_fp(x, y2, p):\n",
    "    x2 = x**2 % p\n",
    "    y = [(i, *y_i) for i, y_i in enumerate([np.where(y2_i == x2)[0] for y2_i in y2]) if y_i.size > 0]"
   ]
  },
  {
   "cell_type": "markdown",
   "metadata": {},
   "source": [
    "Reprenons la courbe elliptique précédente."
   ]
  },
  {
   "cell_type": "code",
   "execution_count": null,
   "metadata": {},
   "outputs": [],
   "source": [
    "\n",
    "p = 41\n",
    "x = np.array(range(0, p))\n",
    "\n",
    "a = -3\n",
    "b = 10\n",
    "\n",
    "x2 = x**2 % p\n",
    "y2 = ecc(x, p, a, b)\n",
    "\n",
    "# On clacule les racines carrées\n",
    "y = sqrt_fp(x, y2, p)\n",
    "\n",
    "fig = plt.figure(dpi=100)\n",
    "\n",
    "#for y_p in y:\n",
    "#    [plt.scatter(y_p[0], i, c='b') for i in y_p[1:]]"
   ]
  },
  {
   "cell_type": "markdown",
   "metadata": {},
   "source": [
    "Préparation des clés\n",
    "====================\n",
    "\n",
    "- Choisir un entier s entre 1 et p-1 qui sera la clé privée.\n",
    "- Calculer $Q=sG$ en utilisant (point de la courbe elliptique).\n",
    "\n",
    "**La clé publique est Q et la clé privée est s.**\n",
    "\n",
    "Signature\n",
    "==========\n",
    "\n",
    "- Choisir de manière aléatoire un nombre k entre 1 et p-1\n",
    "- Calculer $(i,j)=kG$\n",
    "- Calculer $x=i \\mod p$ \n",
    "- Calculer $y=k^{-1}(m+sx) \\mod p $\n",
    "\n",
    "**La signature est la paire (x, y).**"
   ]
  },
  {
   "cell_type": "markdown",
   "metadata": {},
   "source": [
    "Vérification de la signature\n",
    "=============================\n",
    "\n",
    "Pour **vérifier** le message $m$, on calcule \n",
    "$$ my^{-1} G + x y^{-1} Q $$\n",
    "L'abscisse trouvée doit être égale à $x$."
   ]
  },
  {
   "cell_type": "markdown",
   "metadata": {},
   "source": [
    "Exemple\n",
    "========\n",
    "On utilise la courbe elliptique $ {\\cal E}_{-3,10}(\\mathbb{F}_p) $ munie du point $G=(38,22)$ qui est aussi d'ordre $41$.\n",
    "Alice souhaite  envoiyer à Bob le message \"Hello world!\", de haché $m$ = hash(\"Hello world !\") = $-8214045698544500220$.\n",
    "- Elle choisi (aléatoirement)  $s=36$ (un entier entre 1 et 40).\n",
    "- Elle calcule $Q=sG$, ici $Q=(39,34)$ qu'elle publie comme clé plublique.\n",
    "- Elle choisi (aléatoirement) k=5 (un entier entre 1 et 40).\n",
    "- Elle calcule le point $K=kG=5G=(39,7)=(x,)$ (seul $x$ nous interesse).\n",
    "- Elle calcule  $y=k^{-1}(m+sx) \\mod p $, ici \n",
    "  - $k=5$ d'où $k^{-1} = 33$  \n",
    "  - $s=36$\n",
    "- Alice envoie avec $m$  la signature $(39,5 )$ \n",
    "\n",
    "Vérifiez que le message est authentique.\n"
   ]
  },
  {
   "cell_type": "markdown",
   "metadata": {},
   "source": [
    "Cryptosystème de Menezes et Vanstone (déconseillé)\n",
    "===================================================\n",
    "\n",
    "Alice fixe une courbe elliptique $ {\\cal E}(\\mathbb{F}_p) $, des  points $G, H$ et un entier $s$ tel que $s.G=H$.\n",
    "L'entier $s$ est sa clé privée, et sa clé publique est constituée de la courbe elliptique ainsi que les points $G$ et $H$.\n",
    "\n",
    "Bob peut envoyer des messages $(m_1,m_2)$. Il choisit aléatoirement un entier $k$ et clacule $Y=k.G$ et $(c_1,c_2) =k.H$.\n",
    "\n",
    "Enfin, il calcule $s_1=c_1.m_1  \\mod p$ et $s_2=c_2.m_2  \\mod p$ puis envoie à Alice le triplet $(Y,s_1,s_2)$.\n",
    "\n",
    "Alice calcule alors $sY=s.k.G = k.H =(c_1,c_2)$ et retrouve les messages en calculant\n",
    "$$ m_1=c_1^{-1} s_1 \\mod p  \\quad \\text{et} \\quad m_2=c_2^{-1} s_2 \\mod p    $$\n",
    "\n"
   ]
  },
  {
   "cell_type": "markdown",
   "metadata": {},
   "source": [
    "Mettre en oeuvre le cryptosystème précédent et le tester sur la courbe elliptique $ {\\cal E}_{4,7}(\\mathbb{F}_{13})$ munie du point $G=(4,3)$.\n",
    "On supposera que la clé secrète d'Alice est $s=9$ et que Bob veut envoyer le message $(2,7)$."
   ]
  },
  {
   "cell_type": "markdown",
   "metadata": {},
   "source": []
  }
 ],
 "metadata": {
  "kernelspec": {
   "display_name": "Python 3.6.9 64-bit",
   "language": "python",
   "name": "python3"
  },
  "language_info": {
   "codemirror_mode": {
    "name": "ipython",
    "version": 3
   },
   "file_extension": ".py",
   "mimetype": "text/x-python",
   "name": "python",
   "nbconvert_exporter": "python",
   "pygments_lexer": "ipython3",
   "version": "3.6.9"
  },
  "orig_nbformat": 4,
  "vscode": {
   "interpreter": {
    "hash": "30295c5bec572e859485b1ffa5e89b8b3e2022ef6e3e739c1ac40f143a557caf"
   }
  }
 },
 "nbformat": 4,
 "nbformat_minor": 2
}
